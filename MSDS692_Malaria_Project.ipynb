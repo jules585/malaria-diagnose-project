{
 "cells": [
  {
   "cell_type": "markdown",
   "id": "whole-therapist",
   "metadata": {},
   "source": [
    "# Using Machine Learning to Diagnose Malaria\n",
    "\n",
    "\n",
    "Julia York\n",
    "\n"
   ]
  },
  {
   "cell_type": "code",
   "execution_count": null,
   "id": "solid-policy",
   "metadata": {},
   "outputs": [],
   "source": [
    "#import tensorflow as tf #Import Tensorflow with alias tf\n",
    "\n",
    "from tensorflow.keras import Sequential #Import Sequential model/API\n",
    "from tensorflow.keras.layers import Flatten, Dense, Conv2D, MaxPool2D, Dropout #Import APIs that will be used in layer building\n",
    "from tensorflow.keras.models import Model, load_model\n",
    "\n",
    "from tensorflow.keras.preprocessing.image import ImageDataGenerator, load_img, img_to_array #Import image data augmentation class which enables images in the dataset to be edited\n",
    "from tensorflow.keras.preprocessing import image\n",
    "from tensorflow.keras import optimizers #Import optimizers that will help train the model\n",
    "from tensorflow.keras.applications.resnet50 import preprocess_input\n",
    "\n",
    "print(tf.__version__) #Verify the Tensorflow import by printing the version"
   ]
  },
  {
   "cell_type": "code",
   "execution_count": 2,
   "id": "cheap-carry",
   "metadata": {},
   "outputs": [],
   "source": [
    "#Importing other required APIs\n",
    "import numpy as np\n",
    "from glob import glob\n",
    "import matplotlib.pyplot as plt\n",
    "import pandas as pd\n",
    "import os"
   ]
  },
  {
   "cell_type": "code",
   "execution_count": 3,
   "id": "framed-weekend",
   "metadata": {},
   "outputs": [],
   "source": [
    "#Path for downloaded Kaggle dataset\n",
    "directory = \"/home/julia/datasets/cell_images\""
   ]
  },
  {
   "cell_type": "code",
   "execution_count": 4,
   "id": "immediate-boxing",
   "metadata": {},
   "outputs": [],
   "source": [
    "#Set image size\n",
    "IMAGE_SIZE = [224, 224]"
   ]
  },
  {
   "cell_type": "code",
   "execution_count": 5,
   "id": "foster-relevance",
   "metadata": {},
   "outputs": [],
   "source": [
    "#Allow for rescaling all images to the same, desired range; split the dataset into an 80%/20% ratio between training data and validation data.\n",
    "train_datagen = ImageDataGenerator(rescale=1./255, \n",
    "                                   validation_split=0.2,\n",
    "                                   shear_range=0.2,\n",
    "                                   zoom_range=0.2,\n",
    "                                   horizontal_flip=True)"
   ]
  },
  {
   "cell_type": "code",
   "execution_count": 6,
   "id": "floppy-character",
   "metadata": {},
   "outputs": [
    {
     "name": "stdout",
     "output_type": "stream",
     "text": [
      "Found 22048 images belonging to 2 classes.\n"
     ]
    }
   ],
   "source": [
    "#Creating separate datasets for training and for validation\n",
    "train_set = train_datagen.flow_from_directory(directory='/home/julia/datasets/cell_images',\n",
    "                                                   target_size = (224, 224),\n",
    "                                                   class_mode = 'categorical',\n",
    "                                                   batch_size = 32,\n",
    "                                                   subset = 'training'\n",
    "                                                  )"
   ]
  },
  {
   "cell_type": "code",
   "execution_count": 7,
   "id": "variable-cocktail",
   "metadata": {},
   "outputs": [
    {
     "name": "stdout",
     "output_type": "stream",
     "text": [
      "Found 5510 images belonging to 2 classes.\n"
     ]
    }
   ],
   "source": [
    "#Validation data set. 5510/27558 images belong to the validation training set.\n",
    "validation_set = train_datagen.flow_from_directory(directory='/home/julia/datasets/cell_images',\n",
    "                                                   target_size = (224, 224),\n",
    "                                                   class_mode = 'categorical',\n",
    "                                                   batch_size = 32,\n",
    "                                                   subset = 'validation'\n",
    "                                                  )"
   ]
  },
  {
   "cell_type": "code",
   "execution_count": 8,
   "id": "assured-dialogue",
   "metadata": {},
   "outputs": [
    {
     "data": {
      "text/plain": [
       "array([0, 0, 0, ..., 1, 1, 1], dtype=int32)"
      ]
     },
     "execution_count": 8,
     "metadata": {},
     "output_type": "execute_result"
    }
   ],
   "source": [
    "#Labels the images in train_set as 0 or 1; where 0=parasitized and 1=uninfected.\n",
    "train_set.labels"
   ]
  },
  {
   "cell_type": "code",
   "execution_count": 9,
   "id": "rotary-season",
   "metadata": {},
   "outputs": [
    {
     "data": {
      "text/plain": [
       "array([0, 0, 0, ..., 1, 1, 1], dtype=int32)"
      ]
     },
     "execution_count": 9,
     "metadata": {},
     "output_type": "execute_result"
    }
   ],
   "source": [
    "#Labels the images in validation_set as 0 or 1.\n",
    "validation_set.labels"
   ]
  },
  {
   "cell_type": "code",
   "execution_count": 10,
   "id": "about-duncan",
   "metadata": {},
   "outputs": [],
   "source": [
    "#The model\n",
    "model = Sequential() #Sequential model allowing for building own layers.\n",
    "\n",
    "#Layer 1\n",
    "model.add(Conv2D(16, (3,3), input_shape = (224, 224, 3), padding='same', activation='relu')) #Convolution layer that extracts features from the image.\n",
    "model.add(MaxPool2D(2,2)) #Lets CNN recognize the image in any shape, size, or orientation.\n",
    "model.add(Dropout(0.2)) #Helps CNN from overfitting; it is set to 20% here.\n",
    "\n",
    "#Layer 2\n",
    "model.add(Conv2D(32, (3,3), padding='same', activation='relu')) #ReLU (rectifier function) in all layers adds non-linearity to the images.\n",
    "model.add(MaxPool2D(2,2))\n",
    "model.add(Dropout(0.3))\n",
    "\n",
    "#Layer 3\n",
    "model.add(Flatten())\n",
    "model.add(Dense(64, activation='relu'))\n",
    "model.add(Dropout(0.5))\n",
    "\n",
    "#Layer 4\n",
    "model.add(Dense(2, activation='softmax')) #Dense layer helps with making predictions; softmax for probabilities."
   ]
  },
  {
   "cell_type": "code",
   "execution_count": 11,
   "id": "entitled-wrapping",
   "metadata": {},
   "outputs": [
    {
     "name": "stdout",
     "output_type": "stream",
     "text": [
      "Model: \"sequential\"\n",
      "_________________________________________________________________\n",
      "Layer (type)                 Output Shape              Param #   \n",
      "=================================================================\n",
      "conv2d (Conv2D)              (None, 224, 224, 16)      448       \n",
      "_________________________________________________________________\n",
      "max_pooling2d (MaxPooling2D) (None, 112, 112, 16)      0         \n",
      "_________________________________________________________________\n",
      "dropout (Dropout)            (None, 112, 112, 16)      0         \n",
      "_________________________________________________________________\n",
      "conv2d_1 (Conv2D)            (None, 112, 112, 32)      4640      \n",
      "_________________________________________________________________\n",
      "max_pooling2d_1 (MaxPooling2 (None, 56, 56, 32)        0         \n",
      "_________________________________________________________________\n",
      "dropout_1 (Dropout)          (None, 56, 56, 32)        0         \n",
      "_________________________________________________________________\n",
      "flatten (Flatten)            (None, 100352)            0         \n",
      "_________________________________________________________________\n",
      "dense (Dense)                (None, 64)                6422592   \n",
      "_________________________________________________________________\n",
      "dropout_2 (Dropout)          (None, 64)                0         \n",
      "_________________________________________________________________\n",
      "dense_1 (Dense)              (None, 2)                 130       \n",
      "=================================================================\n",
      "Total params: 6,427,810\n",
      "Trainable params: 6,427,810\n",
      "Non-trainable params: 0\n",
      "_________________________________________________________________\n"
     ]
    }
   ],
   "source": [
    "#Summary of the model\n",
    "model.summary()"
   ]
  },
  {
   "cell_type": "code",
   "execution_count": 12,
   "id": "appointed-commitment",
   "metadata": {},
   "outputs": [],
   "source": [
    "#Model compilation in order to move on to training\n",
    "model.compile(optimizer='adam', \n",
    "              loss='categorical_crossentropy', \n",
    "              metrics = ['accuracy'])"
   ]
  },
  {
   "cell_type": "code",
   "execution_count": 13,
   "id": "helpful-lawrence",
   "metadata": {},
   "outputs": [
    {
     "name": "stdout",
     "output_type": "stream",
     "text": [
      "WARNING:tensorflow:From <ipython-input-13-f10debbbf816>:8: Model.fit_generator (from tensorflow.python.keras.engine.training) is deprecated and will be removed in a future version.\n",
      "Instructions for updating:\n",
      "Please use Model.fit, which supports generators.\n",
      "Epoch 1/5\n",
      "689/689 [==============================] - 379s 550ms/step - loss: 0.6326 - accuracy: 0.7120 - val_loss: 0.3737 - val_accuracy: 0.9185\n",
      "Epoch 2/5\n",
      "689/689 [==============================] - 369s 536ms/step - loss: 0.2747 - accuracy: 0.9238 - val_loss: 0.2365 - val_accuracy: 0.9339\n",
      "Epoch 3/5\n",
      "689/689 [==============================] - 370s 536ms/step - loss: 0.2370 - accuracy: 0.9333 - val_loss: 0.2678 - val_accuracy: 0.9189\n",
      "Epoch 4/5\n",
      "689/689 [==============================] - 371s 539ms/step - loss: 0.2235 - accuracy: 0.9353 - val_loss: 0.2141 - val_accuracy: 0.9298\n",
      "Epoch 5/5\n",
      "689/689 [==============================] - 370s 536ms/step - loss: 0.2163 - accuracy: 0.9348 - val_loss: 0.1972 - val_accuracy: 0.9348\n"
     ]
    }
   ],
   "source": [
    "#Model training using model.fit\n",
    "history = model.fit_generator(generator=train_set,\n",
    "                             steps_per_epoch = len(train_set),\n",
    "                             epochs = 5,\n",
    "                             validation_data = validation_set,\n",
    "                             validation_steps = len(validation_set))"
   ]
  },
  {
   "cell_type": "code",
   "execution_count": 14,
   "id": "personal-skill",
   "metadata": {},
   "outputs": [
    {
     "data": {
      "text/plain": [
       "{'loss': [0.6326104998588562,\n",
       "  0.2746756672859192,\n",
       "  0.23698000609874725,\n",
       "  0.2234809547662735,\n",
       "  0.2163231372833252],\n",
       " 'accuracy': [0.7119920253753662,\n",
       "  0.9237572550773621,\n",
       "  0.9332819581031799,\n",
       "  0.9353229403495789,\n",
       "  0.9348240494728088],\n",
       " 'val_loss': [0.37367990612983704,\n",
       "  0.2365242838859558,\n",
       "  0.2678022086620331,\n",
       "  0.21406741440296173,\n",
       "  0.19717781245708466],\n",
       " 'val_accuracy': [0.9185118079185486,\n",
       "  0.9339382648468018,\n",
       "  0.9188748002052307,\n",
       "  0.9297640919685364,\n",
       "  0.9348457455635071]}"
      ]
     },
     "execution_count": 14,
     "metadata": {},
     "output_type": "execute_result"
    }
   ],
   "source": [
    "#Summary of the model training per epoch.\n",
    "history.history"
   ]
  },
  {
   "cell_type": "code",
   "execution_count": 15,
   "id": "civilian-scientist",
   "metadata": {},
   "outputs": [],
   "source": [
    "#Plotting to see if there is over-fitting or under-fitting in the model.\n",
    "def plot_learningCurve(history, epoch):\n",
    "    #Plot training and validation accuracy values\n",
    "    epoch_range = range(1, epoch+1)\n",
    "    plt.plot(epoch_range, history.history['accuracy'])\n",
    "    plt.plot(epoch_range, history.history['val_accuracy'])\n",
    "    plt.title('Model Accuracy')\n",
    "    plt.ylabel('Accuracy')\n",
    "    plt.xlabel('Epoch')\n",
    "    plt.legend(['Train', 'Validation'], loc='upper left')\n",
    "    plt.show()\n",
    "    \n",
    "    #Plot training and validation loss values\n",
    "    plt.plot(epoch_range, history.history['loss'])\n",
    "    plt.plot(epoch_range, history.history['val_loss'])\n",
    "    plt.title('Model Loss')\n",
    "    plt.ylabel('Loss')\n",
    "    plt.xlabel('Epoch')\n",
    "    plt.legend(['Train', 'Validation'], loc='upper left')\n",
    "    plt.show()\n",
    "    \n",
    "#Code adapted from laxmimerit here: https://github.com/laxmimerit/Malaria-Classification-Using-CNN"
   ]
  },
  {
   "cell_type": "code",
   "execution_count": 16,
   "id": "worldwide-mississippi",
   "metadata": {},
   "outputs": [
    {
     "data": {
      "image/png": "[encoded data removed]",
      "text/plain": [
       "<Figure size 432x288 with 1 Axes>"
      ]
     },
     "metadata": {
      "needs_background": "light"
     },
     "output_type": "display_data"
    },
    {
     "data": {
      "image/png": "[encoded data removed]",
      "text/plain": [
       "<Figure size 432x288 with 1 Axes>"
      ]
     },
     "metadata": {
      "needs_background": "light"
     },
     "output_type": "display_data"
    }
   ],
   "source": [
    "#Visualization of the plots; history is the model, and 5 is number of epochs\n",
    "plot_learningCurve(history, 5)"
   ]
  },
  {
   "cell_type": "code",
   "execution_count": 17,
   "id": "hired-vegetarian",
   "metadata": {},
   "outputs": [],
   "source": [
    "#Save model as a file\n",
    "model.save('model_sequential.h5')"
   ]
  },
  {
   "cell_type": "markdown",
   "id": "adaptive-nigeria",
   "metadata": {},
   "source": []
  },
  {
   "cell_type": "markdown",
   "id": "republican-thailand",
   "metadata": {},
   "source": []
  },
  {
   "cell_type": "markdown",
   "id": "solved-studio",
   "metadata": {},
   "source": []
  },
  {
   "cell_type": "markdown",
   "id": "supposed-seeker",
   "metadata": {},
   "source": [
    "# References\n",
    "\n",
    "Guru99, (n.d.). Tensorflow Image Classification: CNN (Convolutional Neural Network). Retrieved from: https://www.guru99.com/convnet-tensorflow-image-classification.html\n",
    "\n",
    "KGP Talkie, (2019, Sept 6). TensorFlow 2.0 Tutorial for Beginners 15 - Malaria Parasite Detection Using CNN. YouTube. Retrieved from: https://www.youtube.com/watch?v=Jdagdil0FIw&t=785s\n",
    "\n",
    "Laxmimerit, (2019). Malaria-Classification-Using-CNN. Retrieved from: https://github.com/laxmimerit/Malaria-Classification-Using-CNN\n",
    "\n",
    "MissingLink.ai, (n.d.a). Using the Keras Flatten Operation in CNN Models with Code Examples. Retrieved from: https://missinglink.ai/guides/keras/using-keras-flatten-operation-cnn-models-code-examples/\n",
    "\n",
    "MissingLink.ai, (n.d.b). TensorFlow Conv2D Layers: A Practical Guide. Retrieved from: https://missinglink.ai/guides/tensorflow/tensorflow-conv2d-layers-practical-guide/\n",
    "\n",
    "Naik, K. (2020, July 9). Live- Implementation Of Malaria Disease Using Deep Learning End To End Projects With Deployment. YouTube. Retrieved from: https://www.youtube.com/watch?v=H-bcnHE6Mes&t=5127s\n",
    "\n",
    "Sarin, S. (2019). Exploring Data Augmentation with Keras and TensorFlow. Retrieved from: https://towardsdatascience.com/exploring-image-data-augmentation-with-keras-and-tensorflow-a8162d89b844\n",
    "\n",
    "SuperDataScience Team, (2018). The Ultimate Guide to Convolutional Neural Networks (CNN). Retrieved from: https://www.superdatascience.com/blogs/the-ultimate-guide-to-convolutional-neural-networks-cnn\n",
    "\n",
    "Tensorflow, (2021a). tf.keras.Sequential. Retrieved from: https://www.tensorflow.org/api_docs/python/tf/keras/Sequential\n",
    "\n",
    "Tensorflow, (2021b). Introduction to modules, layers, and models. Retrieved from: https://www.tensorflow.org/guide/intro_to_modules"
   ]
  },
  {
   "cell_type": "code",
   "execution_count": null,
   "id": "shared-canyon",
   "metadata": {},
   "outputs": [],
   "source": []
  }
 ],
 "metadata": {
  "kernelspec": {
   "display_name": "Python 3",
   "language": "python",
   "name": "python3"
  },
  "language_info": {
   "codemirror_mode": {
    "name": "ipython",
    "version": 3
   },
   "file_extension": ".py",
   "mimetype": "text/x-python",
   "name": "python",
   "nbconvert_exporter": "python",
   "pygments_lexer": "ipython3",
   "version": "3.8.5"
  }
 },
 "nbformat": 4,
 "nbformat_minor": 5
}
